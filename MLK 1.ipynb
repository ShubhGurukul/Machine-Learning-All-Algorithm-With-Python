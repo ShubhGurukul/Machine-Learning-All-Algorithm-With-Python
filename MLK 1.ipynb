{
 "cells": [
  {
   "cell_type": "markdown",
   "metadata": {},
   "source": [
    "**Shubham Tiwari**\n",
    "\n",
    "**101916126**\n",
    "\n",
    "**ML Assignment 1**"
   ]
  },
  {
   "cell_type": "code",
   "execution_count": 1,
   "metadata": {
    "colab": {
     "base_uri": "https://localhost:8080/"
    },
    "executionInfo": {
     "elapsed": 4,
     "status": "ok",
     "timestamp": 1630612010610,
     "user": {
      "displayName": "Divyanshu Patel",
      "photoUrl": "",
      "userId": "13278450815334262085"
     },
     "user_tz": -330
    },
    "id": "wa5Pu5UYCZuP",
    "outputId": "791b512c-e38b-42b9-e9a7-f8e5d40f87d7"
   },
   "outputs": [
    {
     "name": "stdout",
     "output_type": "stream",
     "text": [
      "['Hi', 'there', 'Class']\n"
     ]
    }
   ],
   "source": [
    "s=\"Hi there Class\"\n",
    "split = s.split(\" \");\n",
    "print(split)"
   ]
  },
  {
   "cell_type": "code",
   "execution_count": 2,
   "metadata": {
    "colab": {
     "base_uri": "https://localhost:8080/"
    },
    "executionInfo": {
     "elapsed": 469,
     "status": "ok",
     "timestamp": 1630612046916,
     "user": {
      "displayName": "Divyanshu Patel",
      "photoUrl": "",
      "userId": "13278450815334262085"
     },
     "user_tz": -330
    },
    "id": "mYZBi4JODMIE",
    "outputId": "d57c647a-86a7-48f1-c53e-1aeec88169ad"
   },
   "outputs": [
    {
     "name": "stdout",
     "output_type": "stream",
     "text": [
      "The diameter of Earth is 12742\n"
     ]
    }
   ],
   "source": [
    "ans = \"The diameter of {planet} is {diameter}\".format(planet = \"Earth\",diameter = 12742)\n",
    "print(ans)"
   ]
  },
  {
   "cell_type": "code",
   "execution_count": 3,
   "metadata": {
    "colab": {
     "base_uri": "https://localhost:8080/"
    },
    "executionInfo": {
     "elapsed": 1306,
     "status": "ok",
     "timestamp": 1630612060940,
     "user": {
      "displayName": "Divyanshu Patel",
      "photoUrl": "",
      "userId": "13278450815334262085"
     },
     "user_tz": -330
    },
    "id": "MhszZgCVDWbQ",
    "outputId": "113e15c2-308c-4bbf-8e94-d21675df2b84"
   },
   "outputs": [
    {
     "name": "stdout",
     "output_type": "stream",
     "text": [
      "['hello']\n"
     ]
    }
   ],
   "source": [
    "lst = [1,2,[3,4],[5,[100,200,[\"hello\"]],23,11],1,7]\n",
    "print(lst[3][1][2])"
   ]
  },
  {
   "cell_type": "code",
   "execution_count": 4,
   "metadata": {
    "colab": {
     "base_uri": "https://localhost:8080/"
    },
    "executionInfo": {
     "elapsed": 960,
     "status": "ok",
     "timestamp": 1630612085032,
     "user": {
      "displayName": "Divyanshu Patel",
      "photoUrl": "",
      "userId": "13278450815334262085"
     },
     "user_tz": -330
    },
    "id": "LOEVzPqhDW-3",
    "outputId": "4e36586c-28d1-4fb6-9c76-d2b0006bfa91"
   },
   "outputs": [
    {
     "name": "stdout",
     "output_type": "stream",
     "text": [
      "hello\n"
     ]
    }
   ],
   "source": [
    "d = {'k1':[1,2,3,{'tricky':['oh','man','inception',{'target':[1,2,3,'hello']}]}]}\n",
    "print(d['k1'][3]['tricky'][3]['target'][3])"
   ]
  },
  {
   "cell_type": "code",
   "execution_count": 5,
   "metadata": {
    "colab": {
     "base_uri": "https://localhost:8080/"
    },
    "executionInfo": {
     "elapsed": 26837,
     "status": "ok",
     "timestamp": 1630612123159,
     "user": {
      "displayName": "Divyanshu Patel",
      "photoUrl": "",
      "userId": "13278450815334262085"
     },
     "user_tz": -330
    },
    "id": "C4qbJsOXDdKC",
    "outputId": "3ae28013-082a-43c9-ff41-c31d9f3c6e06"
   },
   "outputs": [
    {
     "name": "stdout",
     "output_type": "stream",
     "text": [
      "Enter email:temp@mail.com\n",
      "mail\n"
     ]
    }
   ],
   "source": [
    "def domain(s):\n",
    "    print(s.split('@')[1].split(\".\")[0])\n",
    "\n",
    "\n",
    "s = str(input(\"Enter email:\"))\n",
    "domain(s)"
   ]
  },
  {
   "cell_type": "code",
   "execution_count": 6,
   "metadata": {
    "colab": {
     "base_uri": "https://localhost:8080/"
    },
    "executionInfo": {
     "elapsed": 4,
     "status": "ok",
     "timestamp": 1630612123160,
     "user": {
      "displayName": "Divyanshu Patel",
      "photoUrl": "",
      "userId": "13278450815334262085"
     },
     "user_tz": -330
    },
    "id": "0fJbNYggDgLX",
    "outputId": "cf9d7b9b-1308-47e0-ec06-a5689e1ebf76"
   },
   "outputs": [
    {
     "name": "stdout",
     "output_type": "stream",
     "text": [
      "True\n",
      "False\n"
     ]
    }
   ],
   "source": [
    "def check(s):\n",
    "    if('dog'in s):\n",
    "        return True\n",
    "    else:\n",
    "        return False\n",
    "\n",
    "s = \"that is a dog\"\n",
    "print(check(s))\n",
    "s= \"that is a cat\"\n",
    "print(check(s))"
   ]
  },
  {
   "cell_type": "code",
   "execution_count": 7,
   "metadata": {
    "colab": {
     "base_uri": "https://localhost:8080/"
    },
    "executionInfo": {
     "elapsed": 358,
     "status": "ok",
     "timestamp": 1630612136428,
     "user": {
      "displayName": "Divyanshu Patel",
      "photoUrl": "",
      "userId": "13278450815334262085"
     },
     "user_tz": -330
    },
    "id": "fXHd7VZfDjO4",
    "outputId": "6de0b90e-cb51-45db-f385-b29211cc25f3"
   },
   "outputs": [
    {
     "name": "stdout",
     "output_type": "stream",
     "text": [
      "2\n"
     ]
    }
   ],
   "source": [
    "def dogCount(s):\n",
    "    sum=0;\n",
    "    if(len(s)<3):\n",
    "        return 0\n",
    "    else:\n",
    "        i=0\n",
    "        j=2\n",
    "        while (j<len(s)):\n",
    "            if s[i:j+1]==\"dog\":\n",
    "                sum=sum+1\n",
    "            i=i+1\n",
    "            j=j+1\n",
    "        return sum\n",
    "    \n",
    "\n",
    "print(dogCount(\"dog dog\"))"
   ]
  },
  {
   "cell_type": "code",
   "execution_count": 8,
   "metadata": {
    "colab": {
     "base_uri": "https://localhost:8080/"
    },
    "executionInfo": {
     "elapsed": 388,
     "status": "ok",
     "timestamp": 1630612146591,
     "user": {
      "displayName": "Divyanshu Patel",
      "photoUrl": "",
      "userId": "13278450815334262085"
     },
     "user_tz": -330
    },
    "id": "_KzArczWDp3-",
    "outputId": "034e31ed-c724-428f-a507-158fb6d8b524"
   },
   "outputs": [
    {
     "name": "stdout",
     "output_type": "stream",
     "text": [
      "['dog', 'cat', 'great']\n"
     ]
    }
   ],
   "source": [
    "lst = ['soup','dog','salad','cat','great']\n",
    "\n",
    "a = lambda lst: [a for a in lst if not a.startswith('s')]\n",
    "print(a(lst))"
   ]
  },
  {
   "cell_type": "code",
   "execution_count": 9,
   "metadata": {
    "colab": {
     "base_uri": "https://localhost:8080/"
    },
    "executionInfo": {
     "elapsed": 369,
     "status": "ok",
     "timestamp": 1630612154194,
     "user": {
      "displayName": "Divyanshu Patel",
      "photoUrl": "",
      "userId": "13278450815334262085"
     },
     "user_tz": -330
    },
    "id": "9X8OQ_2XDsWr",
    "outputId": "194d2bcd-032c-44de-a919-1f3e150a2f2e"
   },
   "outputs": [
    {
     "name": "stdout",
     "output_type": "stream",
     "text": [
      "1st person:\n",
      "Small Challan\n",
      "2nd person:\n",
      "Heavy Challan\n"
     ]
    }
   ],
   "source": [
    "def challan(speed: int, bday: bool):\n",
    "    if(bday == False):\n",
    "        if(speed<=60):\n",
    "            print(\"No challan\")\n",
    "        elif(speed>60 and speed<=80):\n",
    "            print(\"Small Challan\")\n",
    "        else:\n",
    "            print(\"Heavy Challan\")\n",
    "    \n",
    "    else:\n",
    "        if(speed<=65):\n",
    "            print(\"No challan\")\n",
    "        elif(speed>65 and speed<=85):\n",
    "            print(\"Small Challan\")\n",
    "        else:\n",
    "            print(\"Heavy Challan\")\n",
    "            \n",
    "print(\"1st person:\")\n",
    "challan(81,True)\n",
    "print(\"2nd person:\")\n",
    "challan(81,False)"
   ]
  },
  {
   "cell_type": "code",
   "execution_count": 10,
   "metadata": {
    "colab": {
     "base_uri": "https://localhost:8080/"
    },
    "executionInfo": {
     "elapsed": 367,
     "status": "ok",
     "timestamp": 1630612163133,
     "user": {
      "displayName": "Divyanshu Patel",
      "photoUrl": "",
      "userId": "13278450815334262085"
     },
     "user_tz": -330
    },
    "id": "0X_tesmeDuNg",
    "outputId": "cd6b8202-c338-4a47-9f2c-ceb11a166ea0"
   },
   "outputs": [
    {
     "name": "stdout",
     "output_type": "stream",
     "text": [
      "['My', 'name', 'is', 'Shelly']\n"
     ]
    }
   ],
   "source": [
    "list1 = [\"M\",\"na\",\"i\",\"She\"]\n",
    "list2 = [\"y\", \"me\", \"s\" ,\"lly\"]\n",
    "\n",
    "res=[]\n",
    "for i in range(len(list1)):\n",
    "    res.append(list1[i]+list2[i])\n",
    "    \n",
    "print(res)"
   ]
  },
  {
   "cell_type": "code",
   "execution_count": 11,
   "metadata": {
    "colab": {
     "base_uri": "https://localhost:8080/"
    },
    "executionInfo": {
     "elapsed": 363,
     "status": "ok",
     "timestamp": 1630612170173,
     "user": {
      "displayName": "Divyanshu Patel",
      "photoUrl": "",
      "userId": "13278450815334262085"
     },
     "user_tz": -330
    },
    "id": "nETXukRSDwZm",
    "outputId": "e068b6ee-2ea5-4229-cce2-f2b0ebd3764b"
   },
   "outputs": [
    {
     "name": "stdout",
     "output_type": "stream",
     "text": [
      "['Hello Dear', 'Hello Sir', 'Take Dear', 'Take Sir']\n"
     ]
    }
   ],
   "source": [
    "l1 = [\"Hello\",\"Take\"]\n",
    "l2 = [\"Dear\",\"Sir\"]\n",
    "\n",
    "res=[]\n",
    "\n",
    "for i in range(len(l1)):\n",
    "    for j in range(len(l2)):\n",
    "        res.append(l1[i]+\" \"+l2[j])\n",
    "        \n",
    "print(res)"
   ]
  },
  {
   "cell_type": "code",
   "execution_count": 12,
   "metadata": {
    "colab": {
     "base_uri": "https://localhost:8080/"
    },
    "executionInfo": {
     "elapsed": 362,
     "status": "ok",
     "timestamp": 1630612180922,
     "user": {
      "displayName": "Divyanshu Patel",
      "photoUrl": "",
      "userId": "13278450815334262085"
     },
     "user_tz": -330
    },
    "id": "D3HU7ECMDyHm",
    "outputId": "772fd579-0168-46ff-99b5-821af517ca99"
   },
   "outputs": [
    {
     "name": "stdout",
     "output_type": "stream",
     "text": [
      "[10, 20, [300, 400, [5000, 6000, 7000], 500], 30, 40]\n"
     ]
    }
   ],
   "source": [
    "lst = [10,20,[300,400,[5000,6000],500],30,40]\n",
    "lst[2][2].append(7000)\n",
    "print(lst)"
   ]
  },
  {
   "cell_type": "code",
   "execution_count": 13,
   "metadata": {
    "colab": {
     "base_uri": "https://localhost:8080/"
    },
    "executionInfo": {
     "elapsed": 374,
     "status": "ok",
     "timestamp": 1630612186544,
     "user": {
      "displayName": "Divyanshu Patel",
      "photoUrl": "",
      "userId": "13278450815334262085"
     },
     "user_tz": -330
    },
    "id": "W0Jg9RB3D0vb",
    "outputId": "f8f29399-0728-4f6a-de31-fa35b44608b2"
   },
   "outputs": [
    {
     "name": "stdout",
     "output_type": "stream",
     "text": [
      "[5, 15, 25, 50]\n"
     ]
    }
   ],
   "source": [
    "lst = [5,20,15,20,25,50,20]\n",
    "a = lambda lst: [a for a in lst if a!=20]\n",
    "print(a(lst))"
   ]
  },
  {
   "cell_type": "code",
   "execution_count": 14,
   "metadata": {
    "colab": {
     "base_uri": "https://localhost:8080/"
    },
    "executionInfo": {
     "elapsed": 365,
     "status": "ok",
     "timestamp": 1630612192491,
     "user": {
      "displayName": "Divyanshu Patel",
      "photoUrl": "",
      "userId": "13278450815334262085"
     },
     "user_tz": -330
    },
    "id": "pDf-y8PWD2HP",
    "outputId": "81611f43-7899-4581-e6a6-6515b53ef74a"
   },
   "outputs": [
    {
     "name": "stdout",
     "output_type": "stream",
     "text": [
      "True\n"
     ]
    }
   ],
   "source": [
    "d1 = {'a':100,'b':200,'c':300}\n",
    "if 200 in d1.values():\n",
    "    print(True)\n",
    "else:\n",
    "    print(False)"
   ]
  },
  {
   "cell_type": "code",
   "execution_count": 19,
   "metadata": {},
   "outputs": [
    {
     "name": "stdout",
     "output_type": "stream",
     "text": [
      "23.9112\n"
     ]
    }
   ],
   "source": [
    "import math\n",
    " \n",
    "def sumOfSeries( n ):\n",
    "    return 0.0246 * (math.pow(10, n) - 1 - (9 * n))\n",
    "     \n",
    "n = 3\n",
    "print( sumOfSeries(n))"
   ]
  },
  {
   "cell_type": "code",
   "execution_count": null,
   "metadata": {},
   "outputs": [],
   "source": []
  }
 ],
 "metadata": {
  "colab": {
   "authorship_tag": "ABX9TyM6YYLePJtnmLGInCVUCBlg",
   "collapsed_sections": [],
   "name": "ML Ass 1",
   "provenance": []
  },
  "kernelspec": {
   "display_name": "Python 3",
   "language": "python",
   "name": "python3"
  },
  "language_info": {
   "codemirror_mode": {
    "name": "ipython",
    "version": 3
   },
   "file_extension": ".py",
   "mimetype": "text/x-python",
   "name": "python",
   "nbconvert_exporter": "python",
   "pygments_lexer": "ipython3",
   "version": "3.7.6"
  }
 },
 "nbformat": 4,
 "nbformat_minor": 1
}
