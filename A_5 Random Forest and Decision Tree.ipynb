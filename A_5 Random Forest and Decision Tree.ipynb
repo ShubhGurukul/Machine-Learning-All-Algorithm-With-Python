{
 "cells": [
  {
   "cell_type": "markdown",
   "metadata": {},
   "source": [
    "# 1. Decision Tree"
   ]
  },
  {
   "cell_type": "code",
   "execution_count": 2,
   "metadata": {},
   "outputs": [],
   "source": [
    "import pandas as pd\n",
    "from sklearn.tree import DecisionTreeClassifier\n",
    "from sklearn.model_selection import train_test_split\n",
    "from sklearn import metrics # for accuracy calculations "
   ]
  },
  {
   "cell_type": "code",
   "execution_count": 5,
   "metadata": {
    "scrolled": true
   },
   "outputs": [
    {
     "data": {
      "text/html": [
       "<div>\n",
       "<style scoped>\n",
       "    .dataframe tbody tr th:only-of-type {\n",
       "        vertical-align: middle;\n",
       "    }\n",
       "\n",
       "    .dataframe tbody tr th {\n",
       "        vertical-align: top;\n",
       "    }\n",
       "\n",
       "    .dataframe thead th {\n",
       "        text-align: right;\n",
       "    }\n",
       "</style>\n",
       "<table border=\"1\" class=\"dataframe\">\n",
       "  <thead>\n",
       "    <tr style=\"text-align: right;\">\n",
       "      <th></th>\n",
       "      <th>Pregnancies</th>\n",
       "      <th>Glucose</th>\n",
       "      <th>BloodPressure</th>\n",
       "      <th>SkinThickness</th>\n",
       "      <th>Insulin</th>\n",
       "      <th>BMI</th>\n",
       "      <th>DiabetesPedigreeFunction</th>\n",
       "      <th>Age</th>\n",
       "      <th>Outcome</th>\n",
       "    </tr>\n",
       "  </thead>\n",
       "  <tbody>\n",
       "    <tr>\n",
       "      <th>0</th>\n",
       "      <td>6</td>\n",
       "      <td>148</td>\n",
       "      <td>72</td>\n",
       "      <td>35</td>\n",
       "      <td>0</td>\n",
       "      <td>33.6</td>\n",
       "      <td>0.627</td>\n",
       "      <td>50</td>\n",
       "      <td>1</td>\n",
       "    </tr>\n",
       "    <tr>\n",
       "      <th>1</th>\n",
       "      <td>1</td>\n",
       "      <td>85</td>\n",
       "      <td>66</td>\n",
       "      <td>29</td>\n",
       "      <td>0</td>\n",
       "      <td>26.6</td>\n",
       "      <td>0.351</td>\n",
       "      <td>31</td>\n",
       "      <td>0</td>\n",
       "    </tr>\n",
       "    <tr>\n",
       "      <th>2</th>\n",
       "      <td>8</td>\n",
       "      <td>183</td>\n",
       "      <td>64</td>\n",
       "      <td>0</td>\n",
       "      <td>0</td>\n",
       "      <td>23.3</td>\n",
       "      <td>0.672</td>\n",
       "      <td>32</td>\n",
       "      <td>1</td>\n",
       "    </tr>\n",
       "    <tr>\n",
       "      <th>3</th>\n",
       "      <td>1</td>\n",
       "      <td>89</td>\n",
       "      <td>66</td>\n",
       "      <td>23</td>\n",
       "      <td>94</td>\n",
       "      <td>28.1</td>\n",
       "      <td>0.167</td>\n",
       "      <td>21</td>\n",
       "      <td>0</td>\n",
       "    </tr>\n",
       "    <tr>\n",
       "      <th>4</th>\n",
       "      <td>0</td>\n",
       "      <td>137</td>\n",
       "      <td>40</td>\n",
       "      <td>35</td>\n",
       "      <td>168</td>\n",
       "      <td>43.1</td>\n",
       "      <td>2.288</td>\n",
       "      <td>33</td>\n",
       "      <td>1</td>\n",
       "    </tr>\n",
       "  </tbody>\n",
       "</table>\n",
       "</div>"
      ],
      "text/plain": [
       "   Pregnancies  Glucose  BloodPressure  SkinThickness  Insulin   BMI  \\\n",
       "0            6      148             72             35        0  33.6   \n",
       "1            1       85             66             29        0  26.6   \n",
       "2            8      183             64              0        0  23.3   \n",
       "3            1       89             66             23       94  28.1   \n",
       "4            0      137             40             35      168  43.1   \n",
       "\n",
       "   DiabetesPedigreeFunction  Age  Outcome  \n",
       "0                     0.627   50        1  \n",
       "1                     0.351   31        0  \n",
       "2                     0.672   32        1  \n",
       "3                     0.167   21        0  \n",
       "4                     2.288   33        1  "
      ]
     },
     "execution_count": 5,
     "metadata": {},
     "output_type": "execute_result"
    }
   ],
   "source": [
    "data = pd.read_csv('Lab 5 diabetes.csv')\n",
    "data.head()"
   ]
  },
  {
   "cell_type": "markdown",
   "metadata": {},
   "source": [
    "## split dataset in feature and target variable"
   ]
  },
  {
   "cell_type": "code",
   "execution_count": 35,
   "metadata": {
    "scrolled": true
   },
   "outputs": [],
   "source": [
    "feature_column = ['Pregnancies', 'Insulin', 'BMI', 'Age', 'Glucose', 'BloodPressure', 'DiabetesPedigreeFunction' ]\n",
    "X = data[feature_column]\n",
    "y = data.Outcome # target variable\n",
    "X_train, X_test, y_train, y_test = train_test_split(X,y, test_size = 0.15, random_state = 13)\n"
   ]
  },
  {
   "cell_type": "code",
   "execution_count": 36,
   "metadata": {},
   "outputs": [],
   "source": [
    "dtree =  DecisionTreeClassifier()\n",
    "dtree = dtree.fit(X_train, y_train)\n",
    "y_pred = dtree.predict(X_test)"
   ]
  },
  {
   "cell_type": "code",
   "execution_count": 37,
   "metadata": {},
   "outputs": [
    {
     "name": "stdout",
     "output_type": "stream",
     "text": [
      "Accuracy of dtree :  0.7327586206896551\n"
     ]
    }
   ],
   "source": [
    "print('Accuracy of dtree : ', metrics.accuracy_score(y_test,y_pred))"
   ]
  },
  {
   "cell_type": "code",
   "execution_count": null,
   "metadata": {},
   "outputs": [],
   "source": []
  },
  {
   "cell_type": "markdown",
   "metadata": {},
   "source": [
    "# 2. Random Forest"
   ]
  },
  {
   "cell_type": "code",
   "execution_count": 38,
   "metadata": {},
   "outputs": [
    {
     "ename": "ModuleNotFoundError",
     "evalue": "No module named 'cudf'",
     "output_type": "error",
     "traceback": [
      "\u001b[1;31m---------------------------------------------------------------------------\u001b[0m",
      "\u001b[1;31mModuleNotFoundError\u001b[0m                       Traceback (most recent call last)",
      "\u001b[1;32m<ipython-input-38-e13365c50bc4>\u001b[0m in \u001b[0;36m<module>\u001b[1;34m\u001b[0m\n\u001b[1;32m----> 1\u001b[1;33m \u001b[1;32mimport\u001b[0m \u001b[0mcudf\u001b[0m\u001b[1;33m\u001b[0m\u001b[1;33m\u001b[0m\u001b[0m\n\u001b[0m",
      "\u001b[1;31mModuleNotFoundError\u001b[0m: No module named 'cudf'"
     ]
    }
   ],
   "source": [
    "import cudf\n",
    "import numpy as np\n",
    "import pandas as pd\n",
    "\n",
    "from cuml.ensemble import RandomForestClassifer as curfc\n",
    "from cuml.metrics import accuracy_score\n",
    "\n",
    "from sklearn.ensemble import RandomForestClassifier as skrfc\n",
    "from sklearn.datasets import make_classification\n",
    "from sklearn.model_selection import train_test_split\n",
    "\n",
    "# Define Parameter\n",
    "n_samples = 2**18\n",
    "n_features = 399\n",
    "n_info = 300\n",
    "data_type = np.float32"
   ]
  },
  {
   "cell_type": "code",
   "execution_count": null,
   "metadata": {},
   "outputs": [],
   "source": [
    "%%time\n",
    "# Generate data\n",
    "X,y = make_classification(n_samples = n_samples,\n",
    "                          n_features = n_features,\n",
    "                         random_state = 123, \n",
    "                         n_classes  = 2)\n",
    "\n",
    "X = pd.DataFrame(X.astype(data_type))\n",
    "y = pd.Series(y)\n",
    "X_train,X_test,y_train,y_test=train_test_split(X,y,\n",
    "                                                    test_size=0.2,\n",
    "                                                    random_state=0)\n",
    "\n"
   ]
  },
  {
   "cell_type": "code",
   "execution_count": null,
   "metadata": {},
   "outputs": [],
   "source": [
    "%%time\n",
    "X_cudf_train = cudf.DataFrame.from_pandas(X_train)\n",
    "X_cudf_test = cudf.DataFrame.from_pandas(X_test)\n",
    "y_cudf_train = cudf.DataFrame.from_pandas(y_train.values)\n",
    "y_cudf_test = cudf.DataFrame.from_pandas(y_test.values)\n"
   ]
  },
  {
   "cell_type": "code",
   "execution_count": null,
   "metadata": {},
   "outputs": [],
   "source": [
    "%%time\n",
    "# Scikit learn model\n",
    "sk_model = skrfc(n_estimators=35, max_depth=15,\n",
    "                max_features=1.0,random_state=23)\n",
    "sk_model.fit(X_train, y_train)"
   ]
  },
  {
   "cell_type": "code",
   "execution_count": null,
   "metadata": {},
   "outputs": [],
   "source": [
    "%%time\n",
    "# Evaluate\n",
    "sk_predict = sk_model.predict(X_test)\n",
    "sk_acc = accuracy_score(y_test, sk_predict)\n",
    "print('Accuracy is : ', sk_acc)\n"
   ]
  },
  {
   "cell_type": "code",
   "execution_count": null,
   "metadata": {},
   "outputs": [],
   "source": [
    "%%time\n",
    "cuml_model = curfc(n_estimators=35, max_depth=15,\n",
    "                max_features=1.0,random_state=23)\n",
    "cuml_model.fit(X_cudf_train, y_cudf_train)\n"
   ]
  },
  {
   "cell_type": "code",
   "execution_count": null,
   "metadata": {},
   "outputs": [],
   "source": [
    "%%time\n",
    "pred_y = cuml_model.predict(X_cudf_test)\n",
    "cuml_accuracy = accuracy_score(y_cudf_test, pred_y)\n",
    "print('Accuracy is : ', cuml_accuracy)"
   ]
  },
  {
   "cell_type": "markdown",
   "metadata": {},
   "source": [
    "## Self Practice "
   ]
  },
  {
   "cell_type": "code",
   "execution_count": 40,
   "metadata": {},
   "outputs": [],
   "source": [
    "import numpy as np\n",
    "import pandas as pd \n",
    "from sklearn.ensemble import RandomForestClassifier as skrfc\n",
    "from sklearn.datasets import make_classification\n",
    "from sklearn.model_selection import train_test_split\n",
    "\n",
    "# Define Parameter\n",
    "n_samples = 2**18\n",
    "n_features = 399\n",
    "n_info = 300\n",
    "data_type = np.float32 "
   ]
  },
  {
   "cell_type": "code",
   "execution_count": 51,
   "metadata": {},
   "outputs": [
    {
     "name": "stdout",
     "output_type": "stream",
     "text": [
      "Wall time: 10.4 s\n"
     ]
    }
   ],
   "source": [
    "%%time\n",
    "# Generate data\n",
    "X,y = make_classification(n_samples = n_samples,\n",
    "                          n_features = n_features,\n",
    "                         random_state = 123, \n",
    "                         n_classes  = 2)\n",
    "\n",
    "X = pd.DataFrame(X.astype(data_type))\n",
    "y = pd.Series(y)\n",
    "X_train,X_test,y_train,y_test=train_test_split(X,y,\n",
    "                                                    test_size=0.2,\n",
    "                                                    random_state=0)"
   ]
  },
  {
   "cell_type": "code",
   "execution_count": 52,
   "metadata": {
    "scrolled": true
   },
   "outputs": [
    {
     "data": {
      "text/html": [
       "<div>\n",
       "<style scoped>\n",
       "    .dataframe tbody tr th:only-of-type {\n",
       "        vertical-align: middle;\n",
       "    }\n",
       "\n",
       "    .dataframe tbody tr th {\n",
       "        vertical-align: top;\n",
       "    }\n",
       "\n",
       "    .dataframe thead th {\n",
       "        text-align: right;\n",
       "    }\n",
       "</style>\n",
       "<table border=\"1\" class=\"dataframe\">\n",
       "  <thead>\n",
       "    <tr style=\"text-align: right;\">\n",
       "      <th></th>\n",
       "      <th>0</th>\n",
       "      <th>1</th>\n",
       "      <th>2</th>\n",
       "      <th>3</th>\n",
       "      <th>4</th>\n",
       "      <th>5</th>\n",
       "      <th>6</th>\n",
       "      <th>7</th>\n",
       "      <th>8</th>\n",
       "      <th>9</th>\n",
       "      <th>...</th>\n",
       "      <th>389</th>\n",
       "      <th>390</th>\n",
       "      <th>391</th>\n",
       "      <th>392</th>\n",
       "      <th>393</th>\n",
       "      <th>394</th>\n",
       "      <th>395</th>\n",
       "      <th>396</th>\n",
       "      <th>397</th>\n",
       "      <th>398</th>\n",
       "    </tr>\n",
       "  </thead>\n",
       "  <tbody>\n",
       "    <tr>\n",
       "      <th>0</th>\n",
       "      <td>-0.790922</td>\n",
       "      <td>-2.211491</td>\n",
       "      <td>0.606373</td>\n",
       "      <td>-0.477390</td>\n",
       "      <td>-1.232549</td>\n",
       "      <td>0.969216</td>\n",
       "      <td>0.572825</td>\n",
       "      <td>-1.477323</td>\n",
       "      <td>-0.771396</td>\n",
       "      <td>-1.917872</td>\n",
       "      <td>...</td>\n",
       "      <td>-1.675288</td>\n",
       "      <td>0.106222</td>\n",
       "      <td>-0.228966</td>\n",
       "      <td>0.570611</td>\n",
       "      <td>1.480970</td>\n",
       "      <td>1.797054</td>\n",
       "      <td>1.249709</td>\n",
       "      <td>-0.414499</td>\n",
       "      <td>0.067019</td>\n",
       "      <td>0.310186</td>\n",
       "    </tr>\n",
       "    <tr>\n",
       "      <th>1</th>\n",
       "      <td>-1.108647</td>\n",
       "      <td>0.320253</td>\n",
       "      <td>-0.863880</td>\n",
       "      <td>1.025209</td>\n",
       "      <td>0.407875</td>\n",
       "      <td>0.376982</td>\n",
       "      <td>0.776724</td>\n",
       "      <td>1.065811</td>\n",
       "      <td>0.580613</td>\n",
       "      <td>0.062218</td>\n",
       "      <td>...</td>\n",
       "      <td>1.434583</td>\n",
       "      <td>0.787594</td>\n",
       "      <td>-0.683778</td>\n",
       "      <td>0.470666</td>\n",
       "      <td>-0.345288</td>\n",
       "      <td>-1.391274</td>\n",
       "      <td>-1.166305</td>\n",
       "      <td>0.779667</td>\n",
       "      <td>-0.719738</td>\n",
       "      <td>-1.211956</td>\n",
       "    </tr>\n",
       "    <tr>\n",
       "      <th>2</th>\n",
       "      <td>0.010014</td>\n",
       "      <td>0.375795</td>\n",
       "      <td>-1.009028</td>\n",
       "      <td>-0.218627</td>\n",
       "      <td>1.512119</td>\n",
       "      <td>0.853019</td>\n",
       "      <td>-1.218982</td>\n",
       "      <td>-0.451277</td>\n",
       "      <td>0.644289</td>\n",
       "      <td>-0.321081</td>\n",
       "      <td>...</td>\n",
       "      <td>1.012943</td>\n",
       "      <td>-0.045631</td>\n",
       "      <td>1.509207</td>\n",
       "      <td>-1.403679</td>\n",
       "      <td>0.522153</td>\n",
       "      <td>-1.240228</td>\n",
       "      <td>-0.488388</td>\n",
       "      <td>-2.450342</td>\n",
       "      <td>-0.410560</td>\n",
       "      <td>-1.356949</td>\n",
       "    </tr>\n",
       "    <tr>\n",
       "      <th>3</th>\n",
       "      <td>2.059320</td>\n",
       "      <td>-0.279521</td>\n",
       "      <td>0.589402</td>\n",
       "      <td>-1.318651</td>\n",
       "      <td>-0.052748</td>\n",
       "      <td>-0.804232</td>\n",
       "      <td>-0.237376</td>\n",
       "      <td>2.435070</td>\n",
       "      <td>0.718888</td>\n",
       "      <td>2.029876</td>\n",
       "      <td>...</td>\n",
       "      <td>0.463005</td>\n",
       "      <td>0.765487</td>\n",
       "      <td>1.323778</td>\n",
       "      <td>0.348763</td>\n",
       "      <td>0.250897</td>\n",
       "      <td>1.067381</td>\n",
       "      <td>0.840999</td>\n",
       "      <td>-0.885579</td>\n",
       "      <td>-0.964769</td>\n",
       "      <td>0.628758</td>\n",
       "    </tr>\n",
       "    <tr>\n",
       "      <th>4</th>\n",
       "      <td>0.606317</td>\n",
       "      <td>-1.171549</td>\n",
       "      <td>-0.526950</td>\n",
       "      <td>2.466810</td>\n",
       "      <td>0.034856</td>\n",
       "      <td>0.434716</td>\n",
       "      <td>-1.002585</td>\n",
       "      <td>0.387707</td>\n",
       "      <td>-1.027077</td>\n",
       "      <td>1.872400</td>\n",
       "      <td>...</td>\n",
       "      <td>0.605204</td>\n",
       "      <td>0.408223</td>\n",
       "      <td>0.567416</td>\n",
       "      <td>-0.073815</td>\n",
       "      <td>0.731974</td>\n",
       "      <td>1.435153</td>\n",
       "      <td>0.776052</td>\n",
       "      <td>1.204597</td>\n",
       "      <td>1.828763</td>\n",
       "      <td>1.122638</td>\n",
       "    </tr>\n",
       "  </tbody>\n",
       "</table>\n",
       "<p>5 rows × 399 columns</p>\n",
       "</div>"
      ],
      "text/plain": [
       "        0         1         2         3         4         5         6    \\\n",
       "0 -0.790922 -2.211491  0.606373 -0.477390 -1.232549  0.969216  0.572825   \n",
       "1 -1.108647  0.320253 -0.863880  1.025209  0.407875  0.376982  0.776724   \n",
       "2  0.010014  0.375795 -1.009028 -0.218627  1.512119  0.853019 -1.218982   \n",
       "3  2.059320 -0.279521  0.589402 -1.318651 -0.052748 -0.804232 -0.237376   \n",
       "4  0.606317 -1.171549 -0.526950  2.466810  0.034856  0.434716 -1.002585   \n",
       "\n",
       "        7         8         9    ...       389       390       391       392  \\\n",
       "0 -1.477323 -0.771396 -1.917872  ... -1.675288  0.106222 -0.228966  0.570611   \n",
       "1  1.065811  0.580613  0.062218  ...  1.434583  0.787594 -0.683778  0.470666   \n",
       "2 -0.451277  0.644289 -0.321081  ...  1.012943 -0.045631  1.509207 -1.403679   \n",
       "3  2.435070  0.718888  2.029876  ...  0.463005  0.765487  1.323778  0.348763   \n",
       "4  0.387707 -1.027077  1.872400  ...  0.605204  0.408223  0.567416 -0.073815   \n",
       "\n",
       "        393       394       395       396       397       398  \n",
       "0  1.480970  1.797054  1.249709 -0.414499  0.067019  0.310186  \n",
       "1 -0.345288 -1.391274 -1.166305  0.779667 -0.719738 -1.211956  \n",
       "2  0.522153 -1.240228 -0.488388 -2.450342 -0.410560 -1.356949  \n",
       "3  0.250897  1.067381  0.840999 -0.885579 -0.964769  0.628758  \n",
       "4  0.731974  1.435153  0.776052  1.204597  1.828763  1.122638  \n",
       "\n",
       "[5 rows x 399 columns]"
      ]
     },
     "execution_count": 52,
     "metadata": {},
     "output_type": "execute_result"
    }
   ],
   "source": [
    "X.head()"
   ]
  },
  {
   "cell_type": "code",
   "execution_count": 53,
   "metadata": {},
   "outputs": [
    {
     "data": {
      "text/plain": [
       "262139    1\n",
       "262140    1\n",
       "262141    1\n",
       "262142    0\n",
       "262143    1\n",
       "dtype: int32"
      ]
     },
     "execution_count": 53,
     "metadata": {},
     "output_type": "execute_result"
    }
   ],
   "source": [
    "y.tail()"
   ]
  },
  {
   "cell_type": "code",
   "execution_count": 54,
   "metadata": {},
   "outputs": [
    {
     "name": "stdout",
     "output_type": "stream",
     "text": [
      "Wall time: 9.84 s\n"
     ]
    }
   ],
   "source": [
    "%%time\n",
    "# Generate data\n",
    "X,y = make_classification(n_samples = n_samples,\n",
    "                          n_features = n_features,\n",
    "                         random_state = 123, \n",
    "                         n_classes  = 2)\n",
    "\n",
    "X = pd.DataFrame(X.astype(data_type))\n",
    "y = pd.Series(y)\n",
    "X_train,X_test,y_train,y_test=train_test_split(X,y,\n",
    "                                                    test_size=0.2,\n",
    "                                                    random_state=0)"
   ]
  },
  {
   "cell_type": "code",
   "execution_count": null,
   "metadata": {},
   "outputs": [],
   "source": [
    "%%time\n",
    "# Scikit learn model\n",
    "sk_model = skrfc(n_estimators=35, max_depth=15,\n",
    "                max_features=1.0,random_state=23)\n",
    "sk_model.fit(X_train, y_train)"
   ]
  },
  {
   "cell_type": "code",
   "execution_count": null,
   "metadata": {},
   "outputs": [],
   "source": [
    "%%time\n",
    "# Evaluate\n",
    "sk_predict = sk_model.predict(X_test)\n",
    "sk_acc = accuracy_score(y_test, sk_predict)\n",
    "print('Accuracy is : ', sk_acc)"
   ]
  },
  {
   "cell_type": "code",
   "execution_count": null,
   "metadata": {},
   "outputs": [],
   "source": []
  }
 ],
 "metadata": {
  "kernelspec": {
   "display_name": "Python 3",
   "language": "python",
   "name": "python3"
  },
  "language_info": {
   "codemirror_mode": {
    "name": "ipython",
    "version": 3
   },
   "file_extension": ".py",
   "mimetype": "text/x-python",
   "name": "python",
   "nbconvert_exporter": "python",
   "pygments_lexer": "ipython3",
   "version": "3.7.6"
  }
 },
 "nbformat": 4,
 "nbformat_minor": 4
}
