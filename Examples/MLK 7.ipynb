{
 "cells": [
  {
   "cell_type": "markdown",
   "metadata": {},
   "source": [
    "**Q1: Gaussian Naïve Bayes Classifier**\n",
    "\n",
    "Implement Gaussian Naïve Bayes Classifier on the Iris dataset/ \n",
    "or any other relevant dataset from sklearn.datasets using in\u0002built function.\n"
   ]
  },
  {
   "cell_type": "code",
   "execution_count": 1,
   "metadata": {
    "id": "0uiqGV-zUirw"
   },
   "outputs": [],
   "source": [
    "import pandas as pd\n",
    "import numpy as np \n",
    "from sklearn import datasets\n",
    "from sklearn.preprocessing import StandardScaler\n",
    "from sklearn.naive_bayes import GaussianNB\n",
    "from sklearn.model_selection import train_test_split\n",
    "from sklearn.metrics import accuracy_score, confusion_matrix, classification_report"
   ]
  },
  {
   "cell_type": "code",
   "execution_count": 2,
   "metadata": {
    "id": "2OxDi3jRVN7U"
   },
   "outputs": [],
   "source": [
    "iris = datasets.load_iris()"
   ]
  },
  {
   "cell_type": "code",
   "execution_count": 3,
   "metadata": {
    "id": "YN66skd9VnCA"
   },
   "outputs": [],
   "source": [
    "df1 = pd.DataFrame(iris.data, columns=iris.feature_names) \n",
    "df2 = pd.DataFrame(iris.target)\n",
    "df = pd.concat([df1,df2],axis=1)"
   ]
  },
  {
   "cell_type": "code",
   "execution_count": 4,
   "metadata": {
    "id": "wQREZm33ZF5h"
   },
   "outputs": [],
   "source": [
    "dfx = df.iloc[:,:4]\n",
    "X_train, X_test, Y_train, Y_test = train_test_split(dfx, df2, test_size=0.3, random_state=8)"
   ]
  },
  {
   "cell_type": "code",
   "execution_count": 5,
   "metadata": {
    "id": "kLAKdPrSZOQ6"
   },
   "outputs": [],
   "source": [
    "scaler = StandardScaler()\n",
    "dfx_train = scaler.fit_transform(X_train)\n",
    "dfx_test = scaler.fit_transform(X_test)"
   ]
  },
  {
   "cell_type": "code",
   "execution_count": 6,
   "metadata": {
    "colab": {
     "base_uri": "https://localhost:8080/"
    },
    "id": "4ebpj4bJZQn_",
    "outputId": "854ea3f3-3584-466a-9b9e-ac78949beec8"
   },
   "outputs": [
    {
     "name": "stderr",
     "output_type": "stream",
     "text": [
      "C:\\ProgramData\\Anaconda3\\lib\\site-packages\\sklearn\\naive_bayes.py:206: DataConversionWarning: A column-vector y was passed when a 1d array was expected. Please change the shape of y to (n_samples, ), for example using ravel().\n",
      "  y = column_or_1d(y, warn=True)\n"
     ]
    },
    {
     "data": {
      "text/plain": [
       "array([0, 0, 0, 2, 1, 0, 0, 2, 2, 1, 2, 0, 1, 2, 1, 2, 2, 2, 2, 2, 2, 0,\n",
       "       1, 1, 1, 0, 2, 0, 0, 2, 0, 0, 0, 2, 1, 1, 2, 1, 0, 1, 1, 0, 1, 1,\n",
       "       2])"
      ]
     },
     "execution_count": 6,
     "metadata": {},
     "output_type": "execute_result"
    }
   ],
   "source": [
    "nb = GaussianNB()\n",
    "nb.fit(dfx_train,Y_train)\n",
    "predicted = nb.predict(dfx_test)\n",
    "predicted"
   ]
  },
  {
   "cell_type": "markdown",
   "metadata": {},
   "source": [
    "**Q2. Performance Evaluation of the Classifier:**\n",
    "\n",
    "Evaluate the performance of the classifier using metrics library \n",
    "based on the parameters like confusion matrix, accuracy, \n",
    "precision, recall, F-1 Score, TPR, TNR, FPR and FNR."
   ]
  },
  {
   "cell_type": "code",
   "execution_count": 7,
   "metadata": {
    "colab": {
     "base_uri": "https://localhost:8080/"
    },
    "id": "A4MiKBTlZVoQ",
    "outputId": "04ac41b8-4345-4c91-ff28-ef4196cc3de7"
   },
   "outputs": [
    {
     "name": "stdout",
     "output_type": "stream",
     "text": [
      "0.8666666666666667\n",
      "              precision    recall  f1-score   support\n",
      "\n",
      "           0       1.00      1.00      1.00        15\n",
      "           1       0.86      0.75      0.80        16\n",
      "           2       0.75      0.86      0.80        14\n",
      "\n",
      "    accuracy                           0.87        45\n",
      "   macro avg       0.87      0.87      0.87        45\n",
      "weighted avg       0.87      0.87      0.87        45\n",
      "\n",
      "[[15  0  0]\n",
      " [ 0 12  4]\n",
      " [ 0  2 12]]\n"
     ]
    }
   ],
   "source": [
    "accuracy = accuracy_score(Y_test, predicted, normalize = True)\n",
    "print(accuracy)\n",
    "report = classification_report(Y_test, predicted)\n",
    "print(report)\n",
    "matrix = confusion_matrix(Y_test, predicted)\n",
    "print(matrix)"
   ]
  },
  {
   "cell_type": "code",
   "execution_count": 8,
   "metadata": {
    "colab": {
     "base_uri": "https://localhost:8080/"
    },
    "id": "79GPe_egZso-",
    "outputId": "2aa45939-8207-49c4-cd86-a2839d1bfccf"
   },
   "outputs": [
    {
     "name": "stdout",
     "output_type": "stream",
     "text": [
      "[15. 12. 12.] [30. 27. 27.] [0. 2. 4.] [0. 4. 2.]\n",
      "[1.         0.75       0.85714286] [1.         0.93103448 0.87096774] [0.         0.06896552 0.12903226] [0.         0.25       0.14285714]\n"
     ]
    }
   ],
   "source": [
    "FP = matrix.sum(axis=0) - np.diag(matrix) \n",
    "FN = matrix.sum(axis=1) - np.diag(matrix)\n",
    "TP = np.diag(matrix)\n",
    "TN = matrix.sum() - (FP + FN + TP)\n",
    "FP = FP.astype(float)\n",
    "FN = FN.astype(float)\n",
    "TP = TP.astype(float)\n",
    "TN = TN.astype(float)\n",
    "\n",
    "print(TP,TN,FP,FN)\n",
    "TPR = TP/(TP+FN)\n",
    "TNR = TN/(TN+FP)\n",
    "FPR = FP/(FP+TN)\n",
    "FNR = FN/(FN+TP)\n",
    "print(TPR,TNR,FPR,FNR)"
   ]
  },
  {
   "cell_type": "code",
   "execution_count": null,
   "metadata": {
    "id": "l9gk7TaHbcKv"
   },
   "outputs": [],
   "source": []
  }
 ],
 "metadata": {
  "colab": {
   "name": "ML_LAB_A7.ipynb",
   "provenance": []
  },
  "kernelspec": {
   "display_name": "Python 3",
   "language": "python",
   "name": "python3"
  },
  "language_info": {
   "codemirror_mode": {
    "name": "ipython",
    "version": 3
   },
   "file_extension": ".py",
   "mimetype": "text/x-python",
   "name": "python",
   "nbconvert_exporter": "python",
   "pygments_lexer": "ipython3",
   "version": "3.7.6"
  }
 },
 "nbformat": 4,
 "nbformat_minor": 1
}
