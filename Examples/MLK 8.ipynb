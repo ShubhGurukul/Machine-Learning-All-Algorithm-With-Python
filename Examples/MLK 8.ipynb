{
 "cells": [
  {
   "cell_type": "markdown",
   "metadata": {},
   "source": [
    "<!-- Submitted By: Laksh Mittal\n",
    "101916002\n",
    "CSE9 -->"
   ]
  },
  {
   "cell_type": "markdown",
   "metadata": {},
   "source": [
    "**Q1: (GridSearchCV for KNN)**\n",
    "\n",
    "Explore about GridSearchCV toot in scikit-learn. This is a tool\n",
    "that is often used for tuning hyperparameters of machine\n",
    "learning models.\n",
    "\n",
    "Use this tool to find the best value of K for K-NN Classifier\n",
    "using any dataset"
   ]
  },
  {
   "cell_type": "code",
   "execution_count": 35,
   "metadata": {},
   "outputs": [],
   "source": [
    "import numpy as np\n",
    "import pandas as pd"
   ]
  },
  {
   "cell_type": "code",
   "execution_count": 36,
   "metadata": {},
   "outputs": [],
   "source": [
    "df=pd.read_csv(\"Iris.csv\")"
   ]
  },
  {
   "cell_type": "code",
   "execution_count": 37,
   "metadata": {},
   "outputs": [
    {
     "name": "stdout",
     "output_type": "stream",
     "text": [
      "<class 'pandas.core.frame.DataFrame'>\n",
      "RangeIndex: 150 entries, 0 to 149\n",
      "Data columns (total 6 columns):\n",
      " #   Column         Non-Null Count  Dtype  \n",
      "---  ------         --------------  -----  \n",
      " 0   Id             150 non-null    int64  \n",
      " 1   SepalLengthCm  150 non-null    float64\n",
      " 2   SepalWidthCm   150 non-null    float64\n",
      " 3   PetalLengthCm  150 non-null    float64\n",
      " 4   PetalWidthCm   150 non-null    float64\n",
      " 5   Species        150 non-null    object \n",
      "dtypes: float64(4), int64(1), object(1)\n",
      "memory usage: 7.2+ KB\n"
     ]
    }
   ],
   "source": [
    "df.info()"
   ]
  },
  {
   "cell_type": "code",
   "execution_count": 38,
   "metadata": {},
   "outputs": [
    {
     "data": {
      "text/html": [
       "<div>\n",
       "<style scoped>\n",
       "    .dataframe tbody tr th:only-of-type {\n",
       "        vertical-align: middle;\n",
       "    }\n",
       "\n",
       "    .dataframe tbody tr th {\n",
       "        vertical-align: top;\n",
       "    }\n",
       "\n",
       "    .dataframe thead th {\n",
       "        text-align: right;\n",
       "    }\n",
       "</style>\n",
       "<table border=\"1\" class=\"dataframe\">\n",
       "  <thead>\n",
       "    <tr style=\"text-align: right;\">\n",
       "      <th></th>\n",
       "      <th>Id</th>\n",
       "      <th>SepalLengthCm</th>\n",
       "      <th>SepalWidthCm</th>\n",
       "      <th>PetalLengthCm</th>\n",
       "      <th>PetalWidthCm</th>\n",
       "      <th>Species</th>\n",
       "    </tr>\n",
       "  </thead>\n",
       "  <tbody>\n",
       "    <tr>\n",
       "      <th>0</th>\n",
       "      <td>1</td>\n",
       "      <td>5.1</td>\n",
       "      <td>3.5</td>\n",
       "      <td>1.4</td>\n",
       "      <td>0.2</td>\n",
       "      <td>Iris-setosa</td>\n",
       "    </tr>\n",
       "    <tr>\n",
       "      <th>1</th>\n",
       "      <td>2</td>\n",
       "      <td>4.9</td>\n",
       "      <td>3.0</td>\n",
       "      <td>1.4</td>\n",
       "      <td>0.2</td>\n",
       "      <td>Iris-setosa</td>\n",
       "    </tr>\n",
       "    <tr>\n",
       "      <th>2</th>\n",
       "      <td>3</td>\n",
       "      <td>4.7</td>\n",
       "      <td>3.2</td>\n",
       "      <td>1.3</td>\n",
       "      <td>0.2</td>\n",
       "      <td>Iris-setosa</td>\n",
       "    </tr>\n",
       "    <tr>\n",
       "      <th>3</th>\n",
       "      <td>4</td>\n",
       "      <td>4.6</td>\n",
       "      <td>3.1</td>\n",
       "      <td>1.5</td>\n",
       "      <td>0.2</td>\n",
       "      <td>Iris-setosa</td>\n",
       "    </tr>\n",
       "    <tr>\n",
       "      <th>4</th>\n",
       "      <td>5</td>\n",
       "      <td>5.0</td>\n",
       "      <td>3.6</td>\n",
       "      <td>1.4</td>\n",
       "      <td>0.2</td>\n",
       "      <td>Iris-setosa</td>\n",
       "    </tr>\n",
       "  </tbody>\n",
       "</table>\n",
       "</div>"
      ],
      "text/plain": [
       "   Id  SepalLengthCm  SepalWidthCm  PetalLengthCm  PetalWidthCm      Species\n",
       "0   1            5.1           3.5            1.4           0.2  Iris-setosa\n",
       "1   2            4.9           3.0            1.4           0.2  Iris-setosa\n",
       "2   3            4.7           3.2            1.3           0.2  Iris-setosa\n",
       "3   4            4.6           3.1            1.5           0.2  Iris-setosa\n",
       "4   5            5.0           3.6            1.4           0.2  Iris-setosa"
      ]
     },
     "execution_count": 38,
     "metadata": {},
     "output_type": "execute_result"
    }
   ],
   "source": [
    "df.head()"
   ]
  },
  {
   "cell_type": "code",
   "execution_count": 39,
   "metadata": {},
   "outputs": [
    {
     "name": "stdout",
     "output_type": "stream",
     "text": [
      "      Id  SepalLengthCm  SepalWidthCm  PetalLengthCm\n",
      "0      1            5.1           3.5            1.4\n",
      "1      2            4.9           3.0            1.4\n",
      "2      3            4.7           3.2            1.3\n",
      "3      4            4.6           3.1            1.5\n",
      "4      5            5.0           3.6            1.4\n",
      "..   ...            ...           ...            ...\n",
      "145  146            6.7           3.0            5.2\n",
      "146  147            6.3           2.5            5.0\n",
      "147  148            6.5           3.0            5.2\n",
      "148  149            6.2           3.4            5.4\n",
      "149  150            5.9           3.0            5.1\n",
      "\n",
      "[150 rows x 4 columns]\n"
     ]
    }
   ],
   "source": [
    "X=df.iloc[:,:4]\n",
    "print(X)"
   ]
  },
  {
   "cell_type": "code",
   "execution_count": 40,
   "metadata": {},
   "outputs": [
    {
     "name": "stdout",
     "output_type": "stream",
     "text": [
      "0      0.2\n",
      "1      0.2\n",
      "2      0.2\n",
      "3      0.2\n",
      "4      0.2\n",
      "      ... \n",
      "145    2.3\n",
      "146    1.9\n",
      "147    2.0\n",
      "148    2.3\n",
      "149    1.8\n",
      "Name: PetalWidthCm, Length: 150, dtype: float64\n"
     ]
    }
   ],
   "source": [
    "Y=df.iloc[:,4]\n",
    "print(Y)"
   ]
  },
  {
   "cell_type": "code",
   "execution_count": 41,
   "metadata": {},
   "outputs": [
    {
     "name": "stdout",
     "output_type": "stream",
     "text": [
      "[ 1  1  1  1  1  3  2  1  1  0  1  1  0  0  1  3  3  2  2  2  1  3  1  4\n",
      "  1  1  3  1  1  1  1  3  0  1  0  1  1  0  1  1  2  2  1  5  3  2  1  1\n",
      "  1  1 10 11 11  9 11  9 12  6  9 10  6 11  6 10  9 10 11  6 11  7 14  9\n",
      " 11  8  9 10 10 13 11  6  7  6  8 12 11 12 11  9  9  9  8 10  8  6  9  8\n",
      "  9  9  7  9 21 15 17 14 18 17 13 14 14 21 16 15 17 16 20 19 14 18 19 11\n",
      " 19 16 16 14 17 14 14 14 17 12 15 16 18 11 10 19 20 14 14 17 20 19 15 19\n",
      " 21 19 15 16 19 14]\n"
     ]
    }
   ],
   "source": [
    "from sklearn.preprocessing import LabelEncoder\n",
    "le = LabelEncoder()\n",
    "y = le.fit_transform(Y)\n",
    "print(y)"
   ]
  },
  {
   "cell_type": "code",
   "execution_count": 42,
   "metadata": {},
   "outputs": [],
   "source": [
    "from sklearn.preprocessing import StandardScaler"
   ]
  },
  {
   "cell_type": "code",
   "execution_count": 43,
   "metadata": {},
   "outputs": [],
   "source": [
    "scaler=StandardScaler()"
   ]
  },
  {
   "cell_type": "code",
   "execution_count": 44,
   "metadata": {},
   "outputs": [
    {
     "name": "stdout",
     "output_type": "stream",
     "text": [
      "[[-1.72054204 -0.90068117  1.03205722 -1.3412724 ]\n",
      " [-1.69744751 -1.14301691 -0.1249576  -1.3412724 ]\n",
      " [-1.67435299 -1.38535265  0.33784833 -1.39813811]\n",
      " [-1.65125846 -1.50652052  0.10644536 -1.2844067 ]\n",
      " [-1.62816394 -1.02184904  1.26346019 -1.3412724 ]\n",
      " [-1.60506942 -0.53717756  1.95766909 -1.17067529]\n",
      " [-1.58197489 -1.50652052  0.80065426 -1.3412724 ]\n",
      " [-1.55888037 -1.02184904  0.80065426 -1.2844067 ]\n",
      " [-1.53578584 -1.74885626 -0.35636057 -1.3412724 ]\n",
      " [-1.51269132 -1.14301691  0.10644536 -1.2844067 ]\n",
      " [-1.4895968  -0.53717756  1.49486315 -1.2844067 ]\n",
      " [-1.46650227 -1.26418478  0.80065426 -1.227541  ]\n",
      " [-1.44340775 -1.26418478 -0.1249576  -1.3412724 ]\n",
      " [-1.42031323 -1.87002413 -0.1249576  -1.51186952]\n",
      " [-1.3972187  -0.05250608  2.18907205 -1.45500381]\n",
      " [-1.37412418 -0.17367395  3.11468391 -1.2844067 ]\n",
      " [-1.35102965 -0.53717756  1.95766909 -1.39813811]\n",
      " [-1.32793513 -0.90068117  1.03205722 -1.3412724 ]\n",
      " [-1.30484061 -0.17367395  1.72626612 -1.17067529]\n",
      " [-1.28174608 -0.90068117  1.72626612 -1.2844067 ]\n",
      " [-1.25865156 -0.53717756  0.80065426 -1.17067529]\n",
      " [-1.23555703 -0.90068117  1.49486315 -1.2844067 ]\n",
      " [-1.21246251 -1.50652052  1.26346019 -1.56873522]\n",
      " [-1.18936799 -0.90068117  0.56925129 -1.17067529]\n",
      " [-1.16627346 -1.26418478  0.80065426 -1.05694388]\n",
      " [-1.14317894 -1.02184904 -0.1249576  -1.227541  ]\n",
      " [-1.12008441 -1.02184904  0.80065426 -1.227541  ]\n",
      " [-1.09698989 -0.7795133   1.03205722 -1.2844067 ]\n",
      " [-1.07389537 -0.7795133   0.80065426 -1.3412724 ]\n",
      " [-1.05080084 -1.38535265  0.33784833 -1.227541  ]\n",
      " [-1.02770632 -1.26418478  0.10644536 -1.227541  ]\n",
      " [-1.00461179 -0.53717756  0.80065426 -1.2844067 ]\n",
      " [-0.98151727 -0.7795133   2.42047502 -1.2844067 ]\n",
      " [-0.95842275 -0.41600969  2.65187798 -1.3412724 ]\n",
      " [-0.93532822 -1.14301691  0.10644536 -1.2844067 ]\n",
      " [-0.9122337  -1.02184904  0.33784833 -1.45500381]\n",
      " [-0.88913917 -0.41600969  1.03205722 -1.39813811]\n",
      " [-0.86604465 -1.14301691  0.10644536 -1.2844067 ]\n",
      " [-0.84295013 -1.74885626 -0.1249576  -1.39813811]\n",
      " [-0.8198556  -0.90068117  0.80065426 -1.2844067 ]\n",
      " [-0.79676108 -1.02184904  1.03205722 -1.39813811]\n",
      " [-0.77366655 -1.62768839 -1.74477836 -1.39813811]\n",
      " [-0.75057203 -1.74885626  0.33784833 -1.39813811]\n",
      " [-0.72747751 -1.02184904  1.03205722 -1.227541  ]\n",
      " [-0.70438298 -0.90068117  1.72626612 -1.05694388]\n",
      " [-0.68128846 -1.26418478 -0.1249576  -1.3412724 ]\n",
      " [-0.65819393 -0.90068117  1.72626612 -1.227541  ]\n",
      " [-0.63509941 -1.50652052  0.33784833 -1.3412724 ]\n",
      " [-0.61200489 -0.65834543  1.49486315 -1.2844067 ]\n",
      " [-0.58891036 -1.02184904  0.56925129 -1.3412724 ]\n",
      " [-0.56581584  1.40150837  0.33784833  0.53529583]\n",
      " [-0.54272131  0.67450115  0.33784833  0.42156442]\n",
      " [-0.51962679  1.2803405   0.10644536  0.64902723]\n",
      " [-0.49653227 -0.41600969 -1.74477836  0.1372359 ]\n",
      " [-0.47343774  0.79566902 -0.58776353  0.47843012]\n",
      " [-0.45034322 -0.17367395 -0.58776353  0.42156442]\n",
      " [-0.42724869  0.55333328  0.56925129  0.53529583]\n",
      " [-0.40415417 -1.14301691 -1.51337539 -0.26082403]\n",
      " [-0.38105965  0.91683689 -0.35636057  0.47843012]\n",
      " [-0.35796512 -0.7795133  -0.8191665   0.08037019]\n",
      " [-0.3348706  -1.02184904 -2.43898725 -0.14709262]\n",
      " [-0.31177607  0.06866179 -0.1249576   0.25096731]\n",
      " [-0.28868155  0.18982966 -1.97618132  0.1372359 ]\n",
      " [-0.26558703  0.31099753 -0.35636057  0.53529583]\n",
      " [-0.2424925  -0.29484182 -0.35636057 -0.09022692]\n",
      " [-0.21939798  1.03800476  0.10644536  0.36469871]\n",
      " [-0.19630345 -0.29484182 -0.1249576   0.42156442]\n",
      " [-0.17320893 -0.05250608 -0.8191665   0.1941016 ]\n",
      " [-0.15011441  0.4321654  -1.97618132  0.42156442]\n",
      " [-0.12701988 -0.29484182 -1.28197243  0.08037019]\n",
      " [-0.10392536  0.06866179  0.33784833  0.59216153]\n",
      " [-0.08083083  0.31099753 -0.58776353  0.1372359 ]\n",
      " [-0.05773631  0.55333328 -1.28197243  0.64902723]\n",
      " [-0.03464179  0.31099753 -0.58776353  0.53529583]\n",
      " [-0.01154726  0.67450115 -0.35636057  0.30783301]\n",
      " [ 0.01154726  0.91683689 -0.1249576   0.36469871]\n",
      " [ 0.03464179  1.15917263 -0.58776353  0.59216153]\n",
      " [ 0.05773631  1.03800476 -0.1249576   0.70589294]\n",
      " [ 0.08083083  0.18982966 -0.35636057  0.42156442]\n",
      " [ 0.10392536 -0.17367395 -1.05056946 -0.14709262]\n",
      " [ 0.12701988 -0.41600969 -1.51337539  0.02350449]\n",
      " [ 0.15011441 -0.41600969 -1.51337539 -0.03336121]\n",
      " [ 0.17320893 -0.05250608 -0.8191665   0.08037019]\n",
      " [ 0.19630345  0.18982966 -0.8191665   0.76275864]\n",
      " [ 0.21939798 -0.53717756 -0.1249576   0.42156442]\n",
      " [ 0.2424925   0.18982966  0.80065426  0.42156442]\n",
      " [ 0.26558703  1.03800476  0.10644536  0.53529583]\n",
      " [ 0.28868155  0.55333328 -1.74477836  0.36469871]\n",
      " [ 0.31177607 -0.29484182 -0.1249576   0.1941016 ]\n",
      " [ 0.3348706  -0.41600969 -1.28197243  0.1372359 ]\n",
      " [ 0.35796512 -0.41600969 -1.05056946  0.36469871]\n",
      " [ 0.38105965  0.31099753 -0.1249576   0.47843012]\n",
      " [ 0.40415417 -0.05250608 -1.05056946  0.1372359 ]\n",
      " [ 0.42724869 -1.02184904 -1.74477836 -0.26082403]\n",
      " [ 0.45034322 -0.29484182 -0.8191665   0.25096731]\n",
      " [ 0.47343774 -0.17367395 -0.1249576   0.25096731]\n",
      " [ 0.49653227 -0.17367395 -0.35636057  0.25096731]\n",
      " [ 0.51962679  0.4321654  -0.35636057  0.30783301]\n",
      " [ 0.54272131 -0.90068117 -1.28197243 -0.43142114]\n",
      " [ 0.56581584 -0.17367395 -0.58776353  0.1941016 ]\n",
      " [ 0.58891036  0.55333328  0.56925129  1.27454998]\n",
      " [ 0.61200489 -0.05250608 -0.8191665   0.76275864]\n",
      " [ 0.63509941  1.52267624 -0.1249576   1.21768427]\n",
      " [ 0.65819393  0.55333328 -0.35636057  1.04708716]\n",
      " [ 0.68128846  0.79566902 -0.1249576   1.16081857]\n",
      " [ 0.70438298  2.12851559 -0.1249576   1.6157442 ]\n",
      " [ 0.72747751 -1.14301691 -1.28197243  0.42156442]\n",
      " [ 0.75057203  1.76501198 -0.35636057  1.44514709]\n",
      " [ 0.77366655  1.03800476 -1.28197243  1.16081857]\n",
      " [ 0.79676108  1.64384411  1.26346019  1.33141568]\n",
      " [ 0.8198556   0.79566902  0.33784833  0.76275864]\n",
      " [ 0.84295013  0.67450115 -0.8191665   0.87649005]\n",
      " [ 0.86604465  1.15917263 -0.1249576   0.99022146]\n",
      " [ 0.88913917 -0.17367395 -1.28197243  0.70589294]\n",
      " [ 0.9122337  -0.05250608 -0.58776353  0.76275864]\n",
      " [ 0.93532822  0.67450115  0.33784833  0.87649005]\n",
      " [ 0.95842275  0.79566902 -0.1249576   0.99022146]\n",
      " [ 0.98151727  2.24968346  1.72626612  1.67260991]\n",
      " [ 1.00461179  2.24968346 -1.05056946  1.78634131]\n",
      " [ 1.02770632  0.18982966 -1.97618132  0.70589294]\n",
      " [ 1.05080084  1.2803405   0.33784833  1.10395287]\n",
      " [ 1.07389537 -0.29484182 -0.58776353  0.64902723]\n",
      " [ 1.09698989  2.24968346 -0.58776353  1.67260991]\n",
      " [ 1.12008441  0.55333328 -0.8191665   0.64902723]\n",
      " [ 1.14317894  1.03800476  0.56925129  1.10395287]\n",
      " [ 1.16627346  1.64384411  0.33784833  1.27454998]\n",
      " [ 1.18936799  0.4321654  -0.58776353  0.59216153]\n",
      " [ 1.21246251  0.31099753 -0.1249576   0.64902723]\n",
      " [ 1.23555703  0.67450115 -0.58776353  1.04708716]\n",
      " [ 1.25865156  1.64384411 -0.1249576   1.16081857]\n",
      " [ 1.28174608  1.88617985 -0.58776353  1.33141568]\n",
      " [ 1.30484061  2.4920192   1.72626612  1.50201279]\n",
      " [ 1.32793513  0.67450115 -0.58776353  1.04708716]\n",
      " [ 1.35102965  0.55333328 -0.58776353  0.76275864]\n",
      " [ 1.37412418  0.31099753 -1.05056946  1.04708716]\n",
      " [ 1.3972187   2.24968346 -0.1249576   1.33141568]\n",
      " [ 1.42031323  0.55333328  0.80065426  1.04708716]\n",
      " [ 1.44340775  0.67450115  0.10644536  0.99022146]\n",
      " [ 1.46650227  0.18982966 -0.1249576   0.59216153]\n",
      " [ 1.4895968   1.2803405   0.10644536  0.93335575]\n",
      " [ 1.51269132  1.03800476  0.10644536  1.04708716]\n",
      " [ 1.53578584  1.2803405   0.10644536  0.76275864]\n",
      " [ 1.55888037 -0.05250608 -0.8191665   0.76275864]\n",
      " [ 1.58197489  1.15917263  0.33784833  1.21768427]\n",
      " [ 1.60506942  1.03800476  0.56925129  1.10395287]\n",
      " [ 1.62816394  1.03800476 -0.1249576   0.81962435]\n",
      " [ 1.65125846  0.55333328 -1.28197243  0.70589294]\n",
      " [ 1.67435299  0.79566902 -0.1249576   0.81962435]\n",
      " [ 1.69744751  0.4321654   0.80065426  0.93335575]\n",
      " [ 1.72054204  0.06866179 -0.1249576   0.76275864]]\n"
     ]
    }
   ],
   "source": [
    "X_scaled=scaler.fit_transform(X)\n",
    "print(X_scaled)"
   ]
  },
  {
   "cell_type": "code",
   "execution_count": 45,
   "metadata": {},
   "outputs": [],
   "source": [
    "from sklearn.model_selection import train_test_split"
   ]
  },
  {
   "cell_type": "code",
   "execution_count": 46,
   "metadata": {},
   "outputs": [],
   "source": [
    "X_train,X_test,y_train,y_test=train_test_split(X_scaled,y,test_size=0.3,random_state=0)"
   ]
  },
  {
   "cell_type": "code",
   "execution_count": 47,
   "metadata": {},
   "outputs": [],
   "source": [
    "from sklearn.neighbors import KNeighborsClassifier"
   ]
  },
  {
   "cell_type": "code",
   "execution_count": 48,
   "metadata": {},
   "outputs": [],
   "source": [
    "knn = KNeighborsClassifier(n_neighbors=3)"
   ]
  },
  {
   "cell_type": "code",
   "execution_count": 49,
   "metadata": {},
   "outputs": [
    {
     "data": {
      "text/plain": [
       "KNeighborsClassifier(algorithm='auto', leaf_size=30, metric='minkowski',\n",
       "                     metric_params=None, n_jobs=None, n_neighbors=3, p=2,\n",
       "                     weights='uniform')"
      ]
     },
     "execution_count": 49,
     "metadata": {},
     "output_type": "execute_result"
    }
   ],
   "source": [
    "knn.fit(X_train,y_train)"
   ]
  },
  {
   "cell_type": "code",
   "execution_count": 50,
   "metadata": {},
   "outputs": [],
   "source": [
    "ypredict=knn.predict(X_test)"
   ]
  },
  {
   "cell_type": "code",
   "execution_count": 51,
   "metadata": {},
   "outputs": [],
   "source": [
    "from sklearn.metrics import classification_report, confusion_matrix"
   ]
  },
  {
   "cell_type": "code",
   "execution_count": 52,
   "metadata": {},
   "outputs": [
    {
     "name": "stdout",
     "output_type": "stream",
     "text": [
      "[[0 1 0 0 0 0 0 0 0 0 0 0 0 0 0 0 0 0 0 0]\n",
      " [3 4 0 1 0 0 0 0 0 0 0 0 0 0 0 0 0 0 0 0]\n",
      " [0 3 0 0 0 0 0 0 0 0 0 0 0 0 0 0 0 0 0 0]\n",
      " [0 3 0 0 0 0 0 0 0 0 0 0 0 0 0 0 0 0 0 0]\n",
      " [0 1 0 0 0 0 0 0 0 0 0 0 0 0 0 0 0 0 0 0]\n",
      " [0 0 0 0 0 0 1 0 1 0 0 0 0 0 0 0 0 0 0 0]\n",
      " [0 0 0 0 0 0 0 0 0 0 0 0 0 0 0 0 0 0 0 0]\n",
      " [0 0 0 0 0 2 0 0 1 0 0 0 0 0 0 0 0 0 0 0]\n",
      " [0 0 0 0 0 1 0 0 1 0 0 0 0 0 0 0 0 0 0 0]\n",
      " [0 0 0 0 0 0 0 0 3 0 0 0 0 1 0 0 0 0 0 0]\n",
      " [0 0 0 0 0 0 0 0 5 2 0 0 0 0 0 0 0 0 0 0]\n",
      " [0 0 0 0 0 1 0 0 0 0 0 0 0 0 0 0 0 0 0 0]\n",
      " [0 0 0 0 0 0 0 0 0 0 1 0 1 0 1 1 0 0 0 0]\n",
      " [0 0 0 0 0 0 0 0 0 0 0 0 0 0 0 0 0 0 0 0]\n",
      " [0 0 0 0 0 0 0 0 0 0 0 0 0 1 0 0 0 0 0 0]\n",
      " [0 0 0 0 0 0 0 0 0 0 0 0 1 0 0 0 0 0 0 0]\n",
      " [0 0 0 0 0 0 0 0 0 0 1 0 0 0 0 0 0 0 0 0]\n",
      " [0 0 0 0 0 0 0 0 0 0 0 0 0 0 0 1 0 0 0 0]\n",
      " [0 0 0 0 0 0 0 0 0 0 0 0 0 1 0 0 0 0 0 0]\n",
      " [0 0 0 0 0 0 0 0 0 0 0 0 0 0 1 0 0 0 0 0]]\n"
     ]
    }
   ],
   "source": [
    "print((confusion_matrix(y_test,ypredict)))"
   ]
  },
  {
   "cell_type": "code",
   "execution_count": 53,
   "metadata": {},
   "outputs": [
    {
     "name": "stdout",
     "output_type": "stream",
     "text": [
      "              precision    recall  f1-score   support\n",
      "\n",
      "           0       0.00      0.00      0.00         1\n",
      "           1       0.33      0.50      0.40         8\n",
      "           2       0.00      0.00      0.00         3\n",
      "           3       0.00      0.00      0.00         3\n",
      "           5       0.00      0.00      0.00         1\n",
      "           6       0.00      0.00      0.00         2\n",
      "           7       0.00      0.00      0.00         0\n",
      "           8       0.00      0.00      0.00         3\n",
      "           9       0.09      0.50      0.15         2\n",
      "          10       0.00      0.00      0.00         4\n",
      "          11       0.00      0.00      0.00         7\n",
      "          12       0.00      0.00      0.00         1\n",
      "          14       0.50      0.25      0.33         4\n",
      "          15       0.00      0.00      0.00         0\n",
      "          16       0.00      0.00      0.00         1\n",
      "          17       0.00      0.00      0.00         1\n",
      "          18       0.00      0.00      0.00         1\n",
      "          19       0.00      0.00      0.00         1\n",
      "          20       0.00      0.00      0.00         1\n",
      "          21       0.00      0.00      0.00         1\n",
      "\n",
      "    accuracy                           0.13        45\n",
      "   macro avg       0.05      0.06      0.04        45\n",
      "weighted avg       0.11      0.13      0.11        45\n",
      "\n",
      "9.177777777777777\n"
     ]
    },
    {
     "name": "stderr",
     "output_type": "stream",
     "text": [
      "C:\\ProgramData\\Anaconda3\\lib\\site-packages\\sklearn\\metrics\\_classification.py:1272: UndefinedMetricWarning: Precision and F-score are ill-defined and being set to 0.0 in labels with no predicted samples. Use `zero_division` parameter to control this behavior.\n",
      "  _warn_prf(average, modifier, msg_start, len(result))\n",
      "C:\\ProgramData\\Anaconda3\\lib\\site-packages\\sklearn\\metrics\\_classification.py:1272: UndefinedMetricWarning: Recall and F-score are ill-defined and being set to 0.0 in labels with no true samples. Use `zero_division` parameter to control this behavior.\n",
      "  _warn_prf(average, modifier, msg_start, len(result))\n"
     ]
    }
   ],
   "source": [
    "from sklearn.metrics import mean_squared_error\n",
    "\n",
    "print((classification_report(y_test,ypredict)))\n",
    "print(mean_squared_error(y_test, y_pred))"
   ]
  },
  {
   "cell_type": "code",
   "execution_count": 54,
   "metadata": {},
   "outputs": [
    {
     "name": "stdout",
     "output_type": "stream",
     "text": [
      "5.333333333333333\n"
     ]
    }
   ],
   "source": [
    "from sklearn.neighbors import KNeighborsClassifier\n",
    "from sklearn import metrics\n",
    "knn = KNeighborsClassifier(n_neighbors=1)\n",
    "knn.fit(X_train,y_train)\n",
    "y_pred = knn.predict(X_test)\n",
    "print(metrics.mean_squared_error(y_test, y_pred))\n"
   ]
  },
  {
   "cell_type": "code",
   "execution_count": 55,
   "metadata": {},
   "outputs": [
    {
     "data": {
      "image/png": "[encoded data removed]",
      "text/plain": [
       "<Figure size 432x288 with 1 Axes>"
      ]
     },
     "metadata": {
      "needs_background": "light"
     },
     "output_type": "display_data"
    }
   ],
   "source": [
    "k_range = list(range(1, 51))\n",
    "scores = []\n",
    "for i in k_range:\n",
    "    knn = KNeighborsClassifier(n_neighbors=i)\n",
    "    knn.fit(X_train, y_train)\n",
    "    y_pred = knn.predict(X_test)\n",
    "    scores.append(metrics.mean_squared_error(y_test, y_pred))\n",
    "    import matplotlib.pyplot as plt\n",
    "plt.plot(scores,marker='o')\n",
    "plt.show()"
   ]
  },
  {
   "cell_type": "code",
   "execution_count": 56,
   "metadata": {},
   "outputs": [],
   "source": [
    "from sklearn.model_selection import GridSearchCV"
   ]
  },
  {
   "cell_type": "code",
   "execution_count": 57,
   "metadata": {},
   "outputs": [
    {
     "name": "stdout",
     "output_type": "stream",
     "text": [
      "[1, 2, 3, 4, 5, 6, 7, 8, 9, 10, 11, 12, 13, 14, 15, 16, 17, 18, 19, 20, 21, 22, 23, 24, 25, 26, 27, 28, 29, 30, 31, 32, 33, 34, 35, 36, 37, 38, 39, 40, 41, 42, 43, 44, 45, 46, 47, 48, 49, 50]\n"
     ]
    }
   ],
   "source": [
    "k_range = list(range(1, 51))\n",
    "print(k_range)"
   ]
  },
  {
   "cell_type": "code",
   "execution_count": 58,
   "metadata": {},
   "outputs": [
    {
     "name": "stdout",
     "output_type": "stream",
     "text": [
      "{'n_neighbors': [1, 2, 3, 4, 5, 6, 7, 8, 9, 10, 11, 12, 13, 14, 15, 16, 17, 18, 19, 20, 21, 22, 23, 24, 25, 26, 27, 28, 29, 30, 31, 32, 33, 34, 35, 36, 37, 38, 39, 40, 41, 42, 43, 44, 45, 46, 47, 48, 49, 50]}\n"
     ]
    }
   ],
   "source": [
    "param_grid = dict(n_neighbors=k_range)\n",
    "print(param_grid)"
   ]
  },
  {
   "cell_type": "code",
   "execution_count": 59,
   "metadata": {},
   "outputs": [
    {
     "name": "stderr",
     "output_type": "stream",
     "text": [
      "C:\\ProgramData\\Anaconda3\\lib\\site-packages\\sklearn\\model_selection\\_split.py:667: UserWarning: The least populated class in y has only 1 members, which is less than n_splits=10.\n",
      "  % (min_groups, self.n_splits)), UserWarning)\n"
     ]
    },
    {
     "data": {
      "text/plain": [
       "GridSearchCV(cv=10, error_score=nan,\n",
       "             estimator=KNeighborsClassifier(algorithm='auto', leaf_size=30,\n",
       "                                            metric='minkowski',\n",
       "                                            metric_params=None, n_jobs=None,\n",
       "                                            n_neighbors=50, p=2,\n",
       "                                            weights='uniform'),\n",
       "             iid='deprecated', n_jobs=None,\n",
       "             param_grid={'n_neighbors': [1, 2, 3, 4, 5, 6, 7, 8, 9, 10, 11, 12,\n",
       "                                         13, 14, 15, 16, 17, 18, 19, 20, 21, 22,\n",
       "                                         23, 24, 25, 26, 27, 28, 29, 30, ...]},\n",
       "             pre_dispatch='2*n_jobs', refit=True, return_train_score=False,\n",
       "             scoring='accuracy', verbose=0)"
      ]
     },
     "execution_count": 59,
     "metadata": {},
     "output_type": "execute_result"
    }
   ],
   "source": [
    "from sklearn.metrics import mean_squared_error, make_scorer, r2_score\n",
    "#score = make_scorer(mean_squared_error)\n",
    "grid = GridSearchCV(knn, param_grid, cv=10,scoring='accuracy',return_train_score=False)\n",
    "grid.fit(X, y)"
   ]
  },
  {
   "cell_type": "code",
   "execution_count": 60,
   "metadata": {},
   "outputs": [
    {
     "name": "stdout",
     "output_type": "stream",
     "text": [
      "[0.15333333 0.24       0.26666667 0.28       0.28       0.24666667\n",
      " 0.25333333 0.26666667 0.28       0.28666667 0.26       0.26\n",
      " 0.25333333 0.26       0.29333333 0.30666667 0.3        0.31333333\n",
      " 0.32       0.31333333 0.3        0.28666667 0.29333333 0.28666667\n",
      " 0.28666667 0.29333333 0.29333333 0.3        0.3        0.30666667\n",
      " 0.30666667 0.32       0.32       0.31333333 0.32       0.32\n",
      " 0.32666667 0.32       0.32       0.32       0.32       0.32\n",
      " 0.32       0.32666667 0.32666667 0.32666667 0.32       0.31333333\n",
      " 0.31333333 0.30666667]\n"
     ]
    }
   ],
   "source": [
    "grid_mean_scores = grid.cv_results_['mean_test_score']\n",
    "print(grid_mean_scores)"
   ]
  },
  {
   "cell_type": "code",
   "execution_count": 61,
   "metadata": {},
   "outputs": [
    {
     "data": {
      "text/plain": [
       "Text(0, 0.5, 'accuracy')"
      ]
     },
     "execution_count": 61,
     "metadata": {},
     "output_type": "execute_result"
    },
    {
     "data": {
      "image/png": "[encoded data removed]",
      "text/plain": [
       "<Figure size 432x288 with 1 Axes>"
      ]
     },
     "metadata": {
      "needs_background": "light"
     },
     "output_type": "display_data"
    }
   ],
   "source": [
    "plt.plot(grid_mean_scores, marker='o')\n",
    "plt.xlabel('Value of K for KNN')\n",
    "plt.ylabel('accuracy')"
   ]
  },
  {
   "cell_type": "code",
   "execution_count": null,
   "metadata": {},
   "outputs": [],
   "source": []
  }
 ],
 "metadata": {
  "kernelspec": {
   "display_name": "Python 3",
   "language": "python",
   "name": "python3"
  },
  "language_info": {
   "codemirror_mode": {
    "name": "ipython",
    "version": 3
   },
   "file_extension": ".py",
   "mimetype": "text/x-python",
   "name": "python",
   "nbconvert_exporter": "python",
   "pygments_lexer": "ipython3",
   "version": "3.7.6"
  }
 },
 "nbformat": 4,
 "nbformat_minor": 4
}
