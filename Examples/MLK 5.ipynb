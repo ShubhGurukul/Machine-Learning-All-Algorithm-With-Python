{
 "cells": [
  {
   "cell_type": "markdown",
   "metadata": {},
   "source": [
    "**Q1:** Implement the Simple Linear Regression for the data given below and predict the house price for \n",
    "a house with plot size 3000, 2000 and 1500 feet:"
   ]
  },
  {
   "cell_type": "code",
   "execution_count": 1,
   "metadata": {
    "id": "YKEz7v-MohpR"
   },
   "outputs": [],
   "source": [
    "import pandas as pd\n",
    "import numpy as np\n",
    "from sklearn.linear_model import LinearRegression\n"
   ]
  },
  {
   "cell_type": "code",
   "execution_count": 2,
   "metadata": {
    "id": "G15JkIDJqfCH"
   },
   "outputs": [],
   "source": [
    "df=pd.read_csv(\"housePrice.csv\")"
   ]
  },
  {
   "cell_type": "code",
   "execution_count": 3,
   "metadata": {
    "colab": {
     "base_uri": "https://localhost:8080/"
    },
    "id": "wtFkYPZwrqRY",
    "outputId": "a1b177bc-a480-4bb5-d5ff-8e75656b4cf7"
   },
   "outputs": [
    {
     "name": "stdout",
     "output_type": "stream",
     "text": [
      "   House Price in $1000s (X)  Square feet (Y)\n",
      "0                        245             1400\n",
      "1                        312             1600\n",
      "2                        279             1700\n",
      "3                        308             1875\n",
      "4                        199             1100\n",
      "5                        219             1550\n",
      "6                        405             2350\n",
      "7                        324             2450\n",
      "8                        319             1425\n",
      "9                        255             1700\n"
     ]
    }
   ],
   "source": [
    "print(df)"
   ]
  },
  {
   "cell_type": "code",
   "execution_count": 4,
   "metadata": {
    "colab": {
     "base_uri": "https://localhost:8080/"
    },
    "id": "qH7J76S6rtQX",
    "outputId": "fc6b2ba6-da40-4668-c775-4ded73434823"
   },
   "outputs": [
    {
     "name": "stdout",
     "output_type": "stream",
     "text": [
      "[[245]\n",
      " [312]\n",
      " [279]\n",
      " [308]\n",
      " [199]\n",
      " [219]\n",
      " [405]\n",
      " [324]\n",
      " [319]\n",
      " [255]]\n"
     ]
    }
   ],
   "source": [
    "X = df.iloc[:, :-1].values\n",
    "print(X)"
   ]
  },
  {
   "cell_type": "code",
   "execution_count": 5,
   "metadata": {
    "colab": {
     "base_uri": "https://localhost:8080/"
    },
    "id": "r6yDzWDptERX",
    "outputId": "c6731b5e-f18b-4240-f51c-a5c54db562f2"
   },
   "outputs": [
    {
     "name": "stdout",
     "output_type": "stream",
     "text": [
      "[1400 1600 1700 1875 1100 1550 2350 2450 1425 1700]\n"
     ]
    }
   ],
   "source": [
    "Y = df.iloc[:, -1].values\n",
    "print(Y)"
   ]
  },
  {
   "cell_type": "code",
   "execution_count": 6,
   "metadata": {
    "id": "LmQgOWYatGvv"
   },
   "outputs": [],
   "source": [
    "reg = LinearRegression()"
   ]
  },
  {
   "cell_type": "code",
   "execution_count": 7,
   "metadata": {
    "colab": {
     "base_uri": "https://localhost:8080/"
    },
    "id": "j4sAXpAIt8YQ",
    "outputId": "83ff5659-8009-4346-9c88-79216e958397"
   },
   "outputs": [
    {
     "data": {
      "text/plain": [
       "LinearRegression(copy_X=True, fit_intercept=True, n_jobs=None, normalize=False)"
      ]
     },
     "execution_count": 7,
     "metadata": {},
     "output_type": "execute_result"
    }
   ],
   "source": [
    "reg.fit(X,Y)"
   ]
  },
  {
   "cell_type": "code",
   "execution_count": 8,
   "metadata": {
    "colab": {
     "base_uri": "https://localhost:8080/"
    },
    "id": "hKt8pVY7uIfj",
    "outputId": "ba2a7a49-442a-45dd-b052-cf5eacd0189b"
   },
   "outputs": [
    {
     "name": "stdout",
     "output_type": "stream",
     "text": [
      "Coefficients:  [5.29132989]\n"
     ]
    }
   ],
   "source": [
    "print('Coefficients: ', reg.coef_)"
   ]
  },
  {
   "cell_type": "code",
   "execution_count": 9,
   "metadata": {
    "colab": {
     "base_uri": "https://localhost:8080/"
    },
    "id": "SaIku7pRuK2b",
    "outputId": "f4d049b3-8bde-49f2-9562-f029d355276b"
   },
   "outputs": [
    {
     "name": "stdout",
     "output_type": "stream",
     "text": [
      "[16073.02364994]\n"
     ]
    }
   ],
   "source": [
    "print(reg.predict([[3000]]))"
   ]
  },
  {
   "cell_type": "code",
   "execution_count": 10,
   "metadata": {
    "colab": {
     "base_uri": "https://localhost:8080/"
    },
    "id": "LzZCm1MtuNer",
    "outputId": "3b608987-2db8-4646-bcfe-e90f6b4ad767"
   },
   "outputs": [
    {
     "name": "stdout",
     "output_type": "stream",
     "text": [
      "[10781.69376237]\n"
     ]
    }
   ],
   "source": [
    "print(reg.predict([[2000]]))"
   ]
  },
  {
   "cell_type": "code",
   "execution_count": 11,
   "metadata": {
    "colab": {
     "base_uri": "https://localhost:8080/"
    },
    "id": "KgjxNdrKubZI",
    "outputId": "e2437b17-5d99-40ea-9429-256d745e9977",
    "scrolled": true
   },
   "outputs": [
    {
     "name": "stdout",
     "output_type": "stream",
     "text": [
      "[8136.02881858]\n"
     ]
    }
   ],
   "source": [
    "print(reg.predict([[1500]]))"
   ]
  },
  {
   "cell_type": "markdown",
   "metadata": {
    "id": "bwf6MYtQudhg"
   },
   "source": [
    "## Stock Price Prediction"
   ]
  },
  {
   "cell_type": "markdown",
   "metadata": {},
   "source": [
    "**Q2: Implement the Multiple Linear Regression for the data given below**\n",
    "\n",
    "predict the stock index price if interest rate is 1.5 and unemployment rate is 5.8"
   ]
  },
  {
   "cell_type": "code",
   "execution_count": 12,
   "metadata": {},
   "outputs": [],
   "source": [
    "df2 = pd.read_csv(\"stockPrice.csv\")"
   ]
  },
  {
   "cell_type": "code",
   "execution_count": 13,
   "metadata": {
    "colab": {
     "base_uri": "https://localhost:8080/"
    },
    "id": "1yoO38sAvQXP",
    "outputId": "60a21716-86b4-4e3a-ef84-7e9e47c1b131"
   },
   "outputs": [
    {
     "name": "stdout",
     "output_type": "stream",
     "text": [
      "    Year  Month  Interest_Rate  Unemployment_Rate  Stock_Index_Price\n",
      "0   2017     12           2.75                5.3               1464\n",
      "1   2017     11           2.50                5.3               1394\n",
      "2   2017     10           2.50                5.3               1357\n",
      "3   2017      9           2.50                5.3               1293\n",
      "4   2017      8           2.50                5.4               1256\n",
      "5   2017      7           2.50                5.6               1254\n",
      "6   2017      6           2.50                5.5               1234\n",
      "7   2017      5           2.25                5.5               1195\n",
      "8   2017      4           2.25                5.5               1159\n",
      "9   2017      3           2.25                5.6               1167\n",
      "10  2017      2           2.00                5.7               1130\n",
      "11  2017      1           2.00                5.9               1075\n",
      "12  2016     12           2.00                6.0               1047\n",
      "13  2016     11           1.75                5.9                965\n",
      "14  2016     10           1.75                5.8                943\n",
      "15  2016      9           1.75                6.1                958\n",
      "16  2016      8           1.75                6.2                971\n",
      "17  2016      7           1.75                6.1                949\n",
      "18  2016      6           1.75                6.1                884\n",
      "19  2016      5           1.75                6.1                866\n",
      "20  2016      4           1.75                5.9                876\n",
      "21  2016      3           1.75                6.2                822\n",
      "22  2016      2           1.75                6.2                704\n",
      "23  2016      1           1.75                6.1                719\n"
     ]
    }
   ],
   "source": [
    "print(df2)"
   ]
  },
  {
   "cell_type": "code",
   "execution_count": 14,
   "metadata": {
    "colab": {
     "base_uri": "https://localhost:8080/"
    },
    "id": "bnazKECNvSNW",
    "outputId": "e253b388-1608-48d7-c5a8-2f50e31c262f"
   },
   "outputs": [
    {
     "name": "stdout",
     "output_type": "stream",
     "text": [
      "[[2.017e+03 1.200e+01 2.750e+00 5.300e+00]\n",
      " [2.017e+03 1.100e+01 2.500e+00 5.300e+00]\n",
      " [2.017e+03 1.000e+01 2.500e+00 5.300e+00]\n",
      " [2.017e+03 9.000e+00 2.500e+00 5.300e+00]\n",
      " [2.017e+03 8.000e+00 2.500e+00 5.400e+00]\n",
      " [2.017e+03 7.000e+00 2.500e+00 5.600e+00]\n",
      " [2.017e+03 6.000e+00 2.500e+00 5.500e+00]\n",
      " [2.017e+03 5.000e+00 2.250e+00 5.500e+00]\n",
      " [2.017e+03 4.000e+00 2.250e+00 5.500e+00]\n",
      " [2.017e+03 3.000e+00 2.250e+00 5.600e+00]\n",
      " [2.017e+03 2.000e+00 2.000e+00 5.700e+00]\n",
      " [2.017e+03 1.000e+00 2.000e+00 5.900e+00]\n",
      " [2.016e+03 1.200e+01 2.000e+00 6.000e+00]\n",
      " [2.016e+03 1.100e+01 1.750e+00 5.900e+00]\n",
      " [2.016e+03 1.000e+01 1.750e+00 5.800e+00]\n",
      " [2.016e+03 9.000e+00 1.750e+00 6.100e+00]\n",
      " [2.016e+03 8.000e+00 1.750e+00 6.200e+00]\n",
      " [2.016e+03 7.000e+00 1.750e+00 6.100e+00]\n",
      " [2.016e+03 6.000e+00 1.750e+00 6.100e+00]\n",
      " [2.016e+03 5.000e+00 1.750e+00 6.100e+00]\n",
      " [2.016e+03 4.000e+00 1.750e+00 5.900e+00]\n",
      " [2.016e+03 3.000e+00 1.750e+00 6.200e+00]\n",
      " [2.016e+03 2.000e+00 1.750e+00 6.200e+00]\n",
      " [2.016e+03 1.000e+00 1.750e+00 6.100e+00]]\n"
     ]
    }
   ],
   "source": [
    "X2 = df2.iloc[:, :-1].values\n",
    "print(X2)"
   ]
  },
  {
   "cell_type": "code",
   "execution_count": 15,
   "metadata": {
    "colab": {
     "base_uri": "https://localhost:8080/"
    },
    "id": "NJxWW4KkwHnn",
    "outputId": "1bd250fb-48b7-4898-a6d6-6012542ec50f"
   },
   "outputs": [
    {
     "name": "stdout",
     "output_type": "stream",
     "text": [
      "[1464 1394 1357 1293 1256 1254 1234 1195 1159 1167 1130 1075 1047  965\n",
      "  943  958  971  949  884  866  876  822  704  719]\n"
     ]
    }
   ],
   "source": [
    "Y2 = df2.iloc[:, -1].values\n",
    "print(Y2)"
   ]
  },
  {
   "cell_type": "code",
   "execution_count": 16,
   "metadata": {
    "id": "YjrF8TvPwKYC"
   },
   "outputs": [],
   "source": [
    "reg2 = LinearRegression()"
   ]
  },
  {
   "cell_type": "code",
   "execution_count": 17,
   "metadata": {
    "colab": {
     "base_uri": "https://localhost:8080/"
    },
    "id": "1rU40TuXwOYy",
    "outputId": "d0bf441c-9a5f-4704-f097-927bcd446c13"
   },
   "outputs": [
    {
     "data": {
      "text/plain": [
       "LinearRegression(copy_X=True, fit_intercept=True, n_jobs=None, normalize=False)"
      ]
     },
     "execution_count": 17,
     "metadata": {},
     "output_type": "execute_result"
    }
   ],
   "source": [
    "reg2.fit(X2,Y2)"
   ]
  },
  {
   "cell_type": "code",
   "execution_count": 18,
   "metadata": {
    "colab": {
     "base_uri": "https://localhost:8080/"
    },
    "id": "6qL8jmEUwVcL",
    "outputId": "6cf44806-4734-44de-fda3-02e9055d5b65"
   },
   "outputs": [
    {
     "name": "stdout",
     "output_type": "stream",
     "text": [
      "[2621.77182291]\n"
     ]
    }
   ],
   "source": [
    "print(reg2.predict([[2021,9,1.5,5.8]]))"
   ]
  },
  {
   "cell_type": "code",
   "execution_count": null,
   "metadata": {
    "id": "LELi9AUuxA3S"
   },
   "outputs": [],
   "source": []
  }
 ],
 "metadata": {
  "colab": {
   "collapsed_sections": [],
   "name": "ML_Assignment5_Sudhanshu.ipynb",
   "provenance": []
  },
  "kernelspec": {
   "display_name": "Python 3",
   "language": "python",
   "name": "python3"
  },
  "language_info": {
   "codemirror_mode": {
    "name": "ipython",
    "version": 3
   },
   "file_extension": ".py",
   "mimetype": "text/x-python",
   "name": "python",
   "nbconvert_exporter": "python",
   "pygments_lexer": "ipython3",
   "version": "3.7.6"
  }
 },
 "nbformat": 4,
 "nbformat_minor": 1
}
